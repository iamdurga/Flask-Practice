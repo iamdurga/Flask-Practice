{
 "cells": [
  {
   "cell_type": "code",
   "execution_count": 10,
   "metadata": {},
   "outputs": [],
   "source": [
    "import pandas as pd\n",
    "import matplotlib.pyplot as plt\n",
    "import seaborn as sns\n",
    "import numpy as np \n",
    "sns.set()"
   ]
  },
  {
   "cell_type": "code",
   "execution_count": 2,
   "metadata": {},
   "outputs": [
    {
     "data": {
      "text/html": [
       "<div>\n",
       "<style scoped>\n",
       "    .dataframe tbody tr th:only-of-type {\n",
       "        vertical-align: middle;\n",
       "    }\n",
       "\n",
       "    .dataframe tbody tr th {\n",
       "        vertical-align: top;\n",
       "    }\n",
       "\n",
       "    .dataframe thead th {\n",
       "        text-align: right;\n",
       "    }\n",
       "</style>\n",
       "<table border=\"1\" class=\"dataframe\">\n",
       "  <thead>\n",
       "    <tr style=\"text-align: right;\">\n",
       "      <th></th>\n",
       "      <th>Survived</th>\n",
       "      <th>Pclass</th>\n",
       "      <th>Name</th>\n",
       "      <th>Sex</th>\n",
       "      <th>Age</th>\n",
       "      <th>Siblings/Spouses Aboard</th>\n",
       "      <th>Parents/Children Aboard</th>\n",
       "      <th>Fare</th>\n",
       "    </tr>\n",
       "  </thead>\n",
       "  <tbody>\n",
       "    <tr>\n",
       "      <th>0</th>\n",
       "      <td>0</td>\n",
       "      <td>3</td>\n",
       "      <td>Mr. Owen Harris Braund</td>\n",
       "      <td>male</td>\n",
       "      <td>22.0</td>\n",
       "      <td>1</td>\n",
       "      <td>0</td>\n",
       "      <td>7.2500</td>\n",
       "    </tr>\n",
       "    <tr>\n",
       "      <th>1</th>\n",
       "      <td>1</td>\n",
       "      <td>1</td>\n",
       "      <td>Mrs. John Bradley (Florence Briggs Thayer) Cum...</td>\n",
       "      <td>female</td>\n",
       "      <td>38.0</td>\n",
       "      <td>1</td>\n",
       "      <td>0</td>\n",
       "      <td>71.2833</td>\n",
       "    </tr>\n",
       "    <tr>\n",
       "      <th>2</th>\n",
       "      <td>1</td>\n",
       "      <td>3</td>\n",
       "      <td>Miss. Laina Heikkinen</td>\n",
       "      <td>female</td>\n",
       "      <td>26.0</td>\n",
       "      <td>0</td>\n",
       "      <td>0</td>\n",
       "      <td>7.9250</td>\n",
       "    </tr>\n",
       "    <tr>\n",
       "      <th>3</th>\n",
       "      <td>1</td>\n",
       "      <td>1</td>\n",
       "      <td>Mrs. Jacques Heath (Lily May Peel) Futrelle</td>\n",
       "      <td>female</td>\n",
       "      <td>35.0</td>\n",
       "      <td>1</td>\n",
       "      <td>0</td>\n",
       "      <td>53.1000</td>\n",
       "    </tr>\n",
       "    <tr>\n",
       "      <th>4</th>\n",
       "      <td>0</td>\n",
       "      <td>3</td>\n",
       "      <td>Mr. William Henry Allen</td>\n",
       "      <td>male</td>\n",
       "      <td>35.0</td>\n",
       "      <td>0</td>\n",
       "      <td>0</td>\n",
       "      <td>8.0500</td>\n",
       "    </tr>\n",
       "  </tbody>\n",
       "</table>\n",
       "</div>"
      ],
      "text/plain": [
       "   Survived  Pclass                                               Name  \\\n",
       "0         0       3                             Mr. Owen Harris Braund   \n",
       "1         1       1  Mrs. John Bradley (Florence Briggs Thayer) Cum...   \n",
       "2         1       3                              Miss. Laina Heikkinen   \n",
       "3         1       1        Mrs. Jacques Heath (Lily May Peel) Futrelle   \n",
       "4         0       3                            Mr. William Henry Allen   \n",
       "\n",
       "      Sex   Age  Siblings/Spouses Aboard  Parents/Children Aboard     Fare  \n",
       "0    male  22.0                        1                        0   7.2500  \n",
       "1  female  38.0                        1                        0  71.2833  \n",
       "2  female  26.0                        0                        0   7.9250  \n",
       "3  female  35.0                        1                        0  53.1000  \n",
       "4    male  35.0                        0                        0   8.0500  "
      ]
     },
     "execution_count": 2,
     "metadata": {},
     "output_type": "execute_result"
    }
   ],
   "source": [
    "df = pd.read_csv(\"data/titanic.csv\")\n",
    "df.head()"
   ]
  },
  {
   "cell_type": "code",
   "execution_count": 3,
   "metadata": {},
   "outputs": [
    {
     "data": {
      "text/plain": [
       "<AxesSubplot:>"
      ]
     },
     "execution_count": 3,
     "metadata": {},
     "output_type": "execute_result"
    },
    {
     "data": {
      "image/png": "[encoded data removed]",
      "text/plain": [
       "<Figure size 432x288 with 1 Axes>"
      ]
     },
     "metadata": {},
     "output_type": "display_data"
    }
   ],
   "source": [
    "df.Age.hist()"
   ]
  },
  {
   "cell_type": "code",
   "execution_count": 4,
   "metadata": {},
   "outputs": [
    {
     "data": {
      "text/plain": [
       "-0.05966512633025011"
      ]
     },
     "execution_count": 4,
     "metadata": {},
     "output_type": "execute_result"
    }
   ],
   "source": [
    "df.Age.corr(df.Survived)"
   ]
  },
  {
   "cell_type": "code",
   "execution_count": 5,
   "metadata": {},
   "outputs": [],
   "source": [
    "df[\"age_group\"]= pd.qcut(df.Age,q =10)"
   ]
  },
  {
   "cell_type": "code",
   "execution_count": 6,
   "metadata": {},
   "outputs": [
    {
     "data": {
      "text/plain": [
       "(14.8, 19.0]     110\n",
       "(24.0, 28.0]     109\n",
       "(19.0, 22.0]      97\n",
       "(40.4, 49.0]      96\n",
       "(0.419, 14.8]     89\n",
       "(35.0, 40.4]      84\n",
       "(49.0, 80.0]      82\n",
       "(28.0, 31.0]      81\n",
       "(31.0, 35.0]      79\n",
       "(22.0, 24.0]      60\n",
       "Name: age_group, dtype: int64"
      ]
     },
     "execution_count": 6,
     "metadata": {},
     "output_type": "execute_result"
    }
   ],
   "source": [
    "df.age_group.value_counts()"
   ]
  },
  {
   "cell_type": "code",
   "execution_count": 7,
   "metadata": {},
   "outputs": [
    {
     "data": {
      "text/plain": [
       "age_group      Survived\n",
       "(0.419, 14.8]  1           48\n",
       "               0           41\n",
       "(14.8, 19.0]   0           69\n",
       "               1           41\n",
       "(19.0, 22.0]   0           72\n",
       "               1           25\n",
       "(22.0, 24.0]   0           35\n",
       "               1           25\n",
       "(24.0, 28.0]   0           72\n",
       "               1           37\n",
       "(28.0, 31.0]   0           50\n",
       "               1           31\n",
       "(31.0, 35.0]   0           41\n",
       "               1           38\n",
       "(35.0, 40.4]   0           52\n",
       "               1           32\n",
       "(40.4, 49.0]   0           58\n",
       "               1           38\n",
       "(49.0, 80.0]   0           55\n",
       "               1           27\n",
       "Name: Survived, dtype: int64"
      ]
     },
     "execution_count": 7,
     "metadata": {},
     "output_type": "execute_result"
    }
   ],
   "source": [
    "df.groupby(\"age_group\").Survived.value_counts()"
   ]
  },
  {
   "cell_type": "code",
   "execution_count": 8,
   "metadata": {},
   "outputs": [
    {
     "data": {
      "text/plain": [
       "age_group      Survived\n",
       "(0.419, 14.8]  1           0.539326\n",
       "               0           0.460674\n",
       "(14.8, 19.0]   0           0.627273\n",
       "               1           0.372727\n",
       "(19.0, 22.0]   0           0.742268\n",
       "               1           0.257732\n",
       "(22.0, 24.0]   0           0.583333\n",
       "               1           0.416667\n",
       "(24.0, 28.0]   0           0.660550\n",
       "               1           0.339450\n",
       "(28.0, 31.0]   0           0.617284\n",
       "               1           0.382716\n",
       "(31.0, 35.0]   0           0.518987\n",
       "               1           0.481013\n",
       "(35.0, 40.4]   0           0.619048\n",
       "               1           0.380952\n",
       "(40.4, 49.0]   0           0.604167\n",
       "               1           0.395833\n",
       "(49.0, 80.0]   0           0.670732\n",
       "               1           0.329268\n",
       "Name: Survived, dtype: float64"
      ]
     },
     "execution_count": 8,
     "metadata": {},
     "output_type": "execute_result"
    }
   ],
   "source": [
    "df.groupby(\"age_group\").Survived.value_counts(normalize = True)"
   ]
  },
  {
   "cell_type": "code",
   "execution_count": 13,
   "metadata": {},
   "outputs": [],
   "source": [
    "ages = np.arange(0,df.Age.max(),10)"
   ]
  },
  {
   "cell_type": "code",
   "execution_count": 14,
   "metadata": {},
   "outputs": [],
   "source": [
    "def age_group(x):\n",
    "    for a,aa in zip(ages[:-1],ages[1:]):\n",
    "        if a  < x and x  < aa:\n",
    "            return (a,aa)\n",
    "    return (aa, None)"
   ]
  },
  {
   "cell_type": "code",
   "execution_count": 16,
   "metadata": {},
   "outputs": [
    {
     "data": {
      "text/plain": [
       "(20.0, 30.0)    270\n",
       "(30.0, 40.0)    166\n",
       "(10.0, 20.0)    126\n",
       "(70.0, None)     98\n",
       "(40.0, 50.0)     96\n",
       "(0.0, 10.0)      71\n",
       "(50.0, 60.0)     41\n",
       "(60.0, 70.0)     19\n",
       "Name: Age, dtype: int64"
      ]
     },
     "execution_count": 16,
     "metadata": {},
     "output_type": "execute_result"
    }
   ],
   "source": [
    "df.Age.apply(age_group).value_counts()"
   ]
  },
  {
   "cell_type": "code",
   "execution_count": 17,
   "metadata": {},
   "outputs": [],
   "source": [
    "df[\"age_group\"] = df.Age.apply(age_group) "
   ]
  },
  {
   "cell_type": "code",
   "execution_count": 18,
   "metadata": {},
   "outputs": [
    {
     "data": {
      "text/plain": [
       "age_group     Survived\n",
       "(0.0, 10.0)   1           0.577465\n",
       "              0           0.422535\n",
       "(10.0, 20.0)  0           0.619048\n",
       "              1           0.380952\n",
       "(20.0, 30.0)  0           0.651852\n",
       "              1           0.348148\n",
       "(30.0, 40.0)  0           0.560241\n",
       "              1           0.439759\n",
       "(40.0, 50.0)  0           0.604167\n",
       "              1           0.395833\n",
       "(50.0, 60.0)  0           0.634146\n",
       "              1           0.365854\n",
       "(60.0, 70.0)  0           0.789474\n",
       "              1           0.210526\n",
       "(70.0, None)  0           0.704082\n",
       "              1           0.295918\n",
       "Name: Survived, dtype: float64"
      ]
     },
     "execution_count": 18,
     "metadata": {},
     "output_type": "execute_result"
    }
   ],
   "source": [
    "df.groupby(\"age_group\").Survived.value_counts(normalize= True)"
   ]
  },
  {
   "cell_type": "code",
   "execution_count": 21,
   "metadata": {},
   "outputs": [
    {
     "data": {
      "text/html": [
       "<div>\n",
       "<style scoped>\n",
       "    .dataframe tbody tr th:only-of-type {\n",
       "        vertical-align: middle;\n",
       "    }\n",
       "\n",
       "    .dataframe tbody tr th {\n",
       "        vertical-align: top;\n",
       "    }\n",
       "\n",
       "    .dataframe thead th {\n",
       "        text-align: right;\n",
       "    }\n",
       "</style>\n",
       "<table border=\"1\" class=\"dataframe\">\n",
       "  <thead>\n",
       "    <tr style=\"text-align: right;\">\n",
       "      <th></th>\n",
       "      <th>age_group</th>\n",
       "      <th>Survived</th>\n",
       "      <th>rate</th>\n",
       "      <th>lage</th>\n",
       "      <th>rage</th>\n",
       "    </tr>\n",
       "  </thead>\n",
       "  <tbody>\n",
       "    <tr>\n",
       "      <th>0</th>\n",
       "      <td>(0.0, 10.0)</td>\n",
       "      <td>1</td>\n",
       "      <td>0.577465</td>\n",
       "      <td>0.0</td>\n",
       "      <td>10.0</td>\n",
       "    </tr>\n",
       "    <tr>\n",
       "      <th>1</th>\n",
       "      <td>(0.0, 10.0)</td>\n",
       "      <td>0</td>\n",
       "      <td>0.422535</td>\n",
       "      <td>0.0</td>\n",
       "      <td>10.0</td>\n",
       "    </tr>\n",
       "    <tr>\n",
       "      <th>2</th>\n",
       "      <td>(10.0, 20.0)</td>\n",
       "      <td>0</td>\n",
       "      <td>0.619048</td>\n",
       "      <td>10.0</td>\n",
       "      <td>20.0</td>\n",
       "    </tr>\n",
       "    <tr>\n",
       "      <th>3</th>\n",
       "      <td>(10.0, 20.0)</td>\n",
       "      <td>1</td>\n",
       "      <td>0.380952</td>\n",
       "      <td>10.0</td>\n",
       "      <td>20.0</td>\n",
       "    </tr>\n",
       "    <tr>\n",
       "      <th>4</th>\n",
       "      <td>(20.0, 30.0)</td>\n",
       "      <td>0</td>\n",
       "      <td>0.651852</td>\n",
       "      <td>20.0</td>\n",
       "      <td>30.0</td>\n",
       "    </tr>\n",
       "    <tr>\n",
       "      <th>5</th>\n",
       "      <td>(20.0, 30.0)</td>\n",
       "      <td>1</td>\n",
       "      <td>0.348148</td>\n",
       "      <td>20.0</td>\n",
       "      <td>30.0</td>\n",
       "    </tr>\n",
       "    <tr>\n",
       "      <th>6</th>\n",
       "      <td>(30.0, 40.0)</td>\n",
       "      <td>0</td>\n",
       "      <td>0.560241</td>\n",
       "      <td>30.0</td>\n",
       "      <td>40.0</td>\n",
       "    </tr>\n",
       "    <tr>\n",
       "      <th>7</th>\n",
       "      <td>(30.0, 40.0)</td>\n",
       "      <td>1</td>\n",
       "      <td>0.439759</td>\n",
       "      <td>30.0</td>\n",
       "      <td>40.0</td>\n",
       "    </tr>\n",
       "    <tr>\n",
       "      <th>8</th>\n",
       "      <td>(40.0, 50.0)</td>\n",
       "      <td>0</td>\n",
       "      <td>0.604167</td>\n",
       "      <td>40.0</td>\n",
       "      <td>50.0</td>\n",
       "    </tr>\n",
       "    <tr>\n",
       "      <th>9</th>\n",
       "      <td>(40.0, 50.0)</td>\n",
       "      <td>1</td>\n",
       "      <td>0.395833</td>\n",
       "      <td>40.0</td>\n",
       "      <td>50.0</td>\n",
       "    </tr>\n",
       "    <tr>\n",
       "      <th>10</th>\n",
       "      <td>(50.0, 60.0)</td>\n",
       "      <td>0</td>\n",
       "      <td>0.634146</td>\n",
       "      <td>50.0</td>\n",
       "      <td>60.0</td>\n",
       "    </tr>\n",
       "    <tr>\n",
       "      <th>11</th>\n",
       "      <td>(50.0, 60.0)</td>\n",
       "      <td>1</td>\n",
       "      <td>0.365854</td>\n",
       "      <td>50.0</td>\n",
       "      <td>60.0</td>\n",
       "    </tr>\n",
       "    <tr>\n",
       "      <th>12</th>\n",
       "      <td>(60.0, 70.0)</td>\n",
       "      <td>0</td>\n",
       "      <td>0.789474</td>\n",
       "      <td>60.0</td>\n",
       "      <td>70.0</td>\n",
       "    </tr>\n",
       "    <tr>\n",
       "      <th>13</th>\n",
       "      <td>(60.0, 70.0)</td>\n",
       "      <td>1</td>\n",
       "      <td>0.210526</td>\n",
       "      <td>60.0</td>\n",
       "      <td>70.0</td>\n",
       "    </tr>\n",
       "    <tr>\n",
       "      <th>14</th>\n",
       "      <td>(70.0, None)</td>\n",
       "      <td>0</td>\n",
       "      <td>0.704082</td>\n",
       "      <td>70.0</td>\n",
       "      <td>NaN</td>\n",
       "    </tr>\n",
       "    <tr>\n",
       "      <th>15</th>\n",
       "      <td>(70.0, None)</td>\n",
       "      <td>1</td>\n",
       "      <td>0.295918</td>\n",
       "      <td>70.0</td>\n",
       "      <td>NaN</td>\n",
       "    </tr>\n",
       "  </tbody>\n",
       "</table>\n",
       "</div>"
      ],
      "text/plain": [
       "       age_group  Survived      rate  lage  rage\n",
       "0    (0.0, 10.0)         1  0.577465   0.0  10.0\n",
       "1    (0.0, 10.0)         0  0.422535   0.0  10.0\n",
       "2   (10.0, 20.0)         0  0.619048  10.0  20.0\n",
       "3   (10.0, 20.0)         1  0.380952  10.0  20.0\n",
       "4   (20.0, 30.0)         0  0.651852  20.0  30.0\n",
       "5   (20.0, 30.0)         1  0.348148  20.0  30.0\n",
       "6   (30.0, 40.0)         0  0.560241  30.0  40.0\n",
       "7   (30.0, 40.0)         1  0.439759  30.0  40.0\n",
       "8   (40.0, 50.0)         0  0.604167  40.0  50.0\n",
       "9   (40.0, 50.0)         1  0.395833  40.0  50.0\n",
       "10  (50.0, 60.0)         0  0.634146  50.0  60.0\n",
       "11  (50.0, 60.0)         1  0.365854  50.0  60.0\n",
       "12  (60.0, 70.0)         0  0.789474  60.0  70.0\n",
       "13  (60.0, 70.0)         1  0.210526  60.0  70.0\n",
       "14  (70.0, None)         0  0.704082  70.0   NaN\n",
       "15  (70.0, None)         1  0.295918  70.0   NaN"
      ]
     },
     "execution_count": 21,
     "metadata": {},
     "output_type": "execute_result"
    }
   ],
   "source": [
    "rdf = df.groupby(\"age_group\").Survived.value_counts(normalize= True).rename(\"rate\").reset_index()\n",
    "rdf[\"lage\"]= rdf.age_group.apply(lambda x: x[0])\n",
    "rdf[\"rage\"] = rdf.age_group.apply(lambda x: x[1])\n",
    "rdf"
   ]
  },
  {
   "cell_type": "code",
   "execution_count": null,
   "metadata": {},
   "outputs": [],
   "source": []
  }
 ],
 "metadata": {
  "interpreter": {
   "hash": "b3ba2566441a7c06988d0923437866b63cedc61552a5af99d1f4fb67d367b25f"
  },
  "kernelspec": {
   "display_name": "Python 3.8.5 ('base')",
   "language": "python",
   "name": "python3"
  },
  "language_info": {
   "codemirror_mode": {
    "name": "ipython",
    "version": 3
   },
   "file_extension": ".py",
   "mimetype": "text/x-python",
   "name": "python",
   "nbconvert_exporter": "python",
   "pygments_lexer": "ipython3",
   "version": "3.8.5"
  },
  "orig_nbformat": 4
 },
 "nbformat": 4,
 "nbformat_minor": 2
}
